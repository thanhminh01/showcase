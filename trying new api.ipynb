{
 "cells": [
  {
   "cell_type": "code",
   "execution_count": 1,
   "id": "61ca831c",
   "metadata": {},
   "outputs": [],
   "source": [
    "import getpass\n",
    "import os\n",
    "\n",
    "if not os.environ.get(\"GROQ_API_KEY\"):\n",
    "  os.environ[\"GROQ_API_KEY\"] = getpass.getpass(\"Enter API key for Groq: \")\n",
    "    \n",
    "template = \"\"\"\n",
    "{input} hehe\n",
    "\"\"\"\n",
    "from langchain.prompts import ChatPromptTemplate\n",
    "prompt =  ChatPromptTemplate.from_template(template)\n",
    "\n",
    "from langchain.schema.output_parser import StrOutputParser\n",
    "str_output_parser = StrOutputParser()\n",
    "\n",
    "from langchain_groq import ChatGroq\n",
    "\n",
    "model = ChatGroq(model=\"llama3-8b-8192\")\n",
    "\n",
    "chain = prompt | model | str_output_parser\n",
    "\n",
    "print(\"debugging model invoke with Hello, world!\")\n",
    "print(model.invoke(\"Hello, world!\"))\n",
    "print(\"\\ndebugging chain invoke with template hello world hehe\")\n",
    "print(chain.invoke(\"hello world\"))"
   ]
  },
  {
   "cell_type": "code",
   "execution_count": 2,
   "id": "07128418",
   "metadata": {
    "scrolled": true
   },
   "outputs": [
    {
     "data": {
      "text/plain": [
       "AIMessage(content='Hello, world! Nice to meet you! What brings you here today?', additional_kwargs={}, response_metadata={'token_usage': {'completion_tokens': 16, 'prompt_tokens': 14, 'total_tokens': 30, 'completion_time': 0.013333333, 'prompt_time': 0.002141814, 'queue_time': 0.016692576, 'total_time': 0.015475147}, 'model_name': 'llama3-8b-8192', 'system_fingerprint': 'fp_a97cfe35ae', 'finish_reason': 'stop', 'logprobs': None}, id='run-b1805be9-884c-41e3-9986-11f4b477fdc6-0', usage_metadata={'input_tokens': 14, 'output_tokens': 16, 'total_tokens': 30})"
      ]
     },
     "execution_count": 2,
     "metadata": {},
     "output_type": "execute_result"
    }
   ],
   "source": [
    "model.invoke(\"Hello, world!\")"
   ]
  },
  {
   "cell_type": "code",
   "execution_count": 4,
   "id": "548cbd9a",
   "metadata": {},
   "outputs": [
    {
     "name": "stdout",
     "output_type": "stream",
     "text": [
      "Hello world back atcha! Hehe, nice to see a playful greeting! How's your day going so far?\n"
     ]
    }
   ],
   "source": [
    "answer = chain.invoke(\"hello world\")\n",
    "print(answer)"
   ]
  },
  {
   "cell_type": "code",
   "execution_count": null,
   "id": "29498205",
   "metadata": {},
   "outputs": [],
   "source": []
  }
 ],
 "metadata": {
  "kernelspec": {
   "display_name": "sample_env",
   "language": "python",
   "name": "sample_env"
  },
  "language_info": {
   "codemirror_mode": {
    "name": "ipython",
    "version": 3
   },
   "file_extension": ".py",
   "mimetype": "text/x-python",
   "name": "python",
   "nbconvert_exporter": "python",
   "pygments_lexer": "ipython3",
   "version": "3.9.2"
  }
 },
 "nbformat": 4,
 "nbformat_minor": 5
}
