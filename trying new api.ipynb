{
 "cells": [
  {
   "cell_type": "code",
   "execution_count": 1,
   "id": "61ca831c",
   "metadata": {
    "scrolled": true
   },
   "outputs": [
    {
     "name": "stdout",
     "output_type": "stream",
     "text": [
      "Enter API key for Groq: ········\n",
      "debugging model invoke with Hello, world!\n",
      "content=\"Hello, world! It's great to meet you! Is there something on your mind that you'd like to chat about, or are you just saying hello? I'm here to listen and help if I can.\" response_metadata={'token_usage': {'completion_tokens': 44, 'prompt_tokens': 14, 'total_tokens': 58, 'completion_time': 0.036666667, 'prompt_time': 0.002822799, 'queue_time': 0.088598988, 'total_time': 0.039489466}, 'model_name': 'llama3-8b-8192', 'system_fingerprint': 'fp_a97cfe35ae', 'finish_reason': 'stop', 'logprobs': None} id='run-6369ce6a-cf69-4fe3-8459-0382ae6dda39-0' usage_metadata={'input_tokens': 14, 'output_tokens': 44, 'total_tokens': 58}\n",
      "\n",
      "debugging chain invoke with template hello world hehe\n",
      "Hello there! It's great to see you're feeling cheerful with a classic \"hello world\" greeting! How's your day going so far?\n"
     ]
    }
   ],
   "source": [
    "import getpass\n",
    "import os\n",
    "\n",
    "if not os.environ.get(\"GROQ_API_KEY\"):\n",
    "  os.environ[\"GROQ_API_KEY\"] = getpass.getpass(\"Enter API key for Groq: \")\n",
    "    \n",
    "template = \"\"\"\n",
    "{input} hehe\n",
    "\"\"\"\n",
    "from langchain.prompts import ChatPromptTemplate\n",
    "prompt =  ChatPromptTemplate.from_template(template)\n",
    "\n",
    "from langchain.schema.output_parser import StrOutputParser\n",
    "str_output_parser = StrOutputParser()\n",
    "\n",
    "from langchain_groq import ChatGroq\n",
    "\n",
    "model = ChatGroq(model=\"llama3-8b-8192\")\n",
    "\n",
    "chain = prompt | model | str_output_parser"
   ]
  },
  {
   "cell_type": "code",
   "execution_count": null,
   "id": "d0a43f76",
   "metadata": {},
   "outputs": [],
   "source": [
    "print(\"debugging model invoke with Hello, world!\")\n",
    "print(model.invoke(\"Hello, world!\"))"
   ]
  },
  {
   "cell_type": "code",
   "execution_count": null,
   "id": "e8bc9b66",
   "metadata": {
    "collapsed": true
   },
   "outputs": [],
   "source": [
    "print(\"\\ndebugging chain invoke with template hello world hehe\")\n",
    "print(chain.invoke(\"hello world\"))"
   ]
  }
 ],
 "metadata": {
  "kernelspec": {
   "display_name": "janshowcase",
   "language": "python",
   "name": "janshowcase"
  },
  "language_info": {
   "codemirror_mode": {
    "name": "ipython",
    "version": 3
   },
   "file_extension": ".py",
   "mimetype": "text/x-python",
   "name": "python",
   "nbconvert_exporter": "python",
   "pygments_lexer": "ipython3",
   "version": "3.9.21"
  }
 },
 "nbformat": 4,
 "nbformat_minor": 5
}
